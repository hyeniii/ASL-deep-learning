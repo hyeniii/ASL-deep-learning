{
 "cells": [
  {
   "cell_type": "code",
   "execution_count": 2,
   "id": "1a2bc8e0",
   "metadata": {},
   "outputs": [],
   "source": [
    "import os\n",
    "from skimage import io\n",
    "import random"
   ]
  },
  {
   "cell_type": "code",
   "execution_count": 4,
   "id": "025c8940",
   "metadata": {},
   "outputs": [],
   "source": [
    "#different data stored in different directories\n",
    "dataset = ['train','test','valid']\n",
    "\n",
    "for directory in dataset:\n",
    "    \n",
    "    #create directory for corrupted images\n",
    "    path = '../data/'+ directory + '/corrupt_images'\n",
    "    if not os.path.isdir(path):\n",
    "        os.mkdir(path)\n",
    "\n",
    "    path = '../data/' + directory + '/matching_images'\n",
    "    if not os.path.isdir(path):\n",
    "        os.mkdir(path)\n"
   ]
  },
  {
   "cell_type": "code",
   "execution_count": 5,
   "id": "954357e0",
   "metadata": {},
   "outputs": [],
   "source": [
    "#corrupt images in each dataset and store in directory of that data\n",
    "for directory in dataset:\n",
    "    \n",
    "    image_dir = '../data/' + directory + '/images'\n",
    "    image_files = os.listdir(image_dir)\n",
    "\n",
    "\n",
    "    # Load the image\n",
    "    for filename in image_files:\n",
    "        try:\n",
    "            #read file\n",
    "            img = io.imread(os.path.join(image_dir, filename))\n",
    "\n",
    "            #save to matching directory\n",
    "            save_file = \"../data/\" + directory + \"/matching_images/\" + filename.split('_')[0] + \".jpg\"\n",
    "            io.imsave(save_file,img)\n",
    "            \n",
    "            #get dims\n",
    "            width, height, _ = img.shape\n",
    "\n",
    "            # Choose a random range of pixels to replace\n",
    "            x1 = random.randint(0, width-100)\n",
    "            x2 = x1 + random.randint(30, 100)\n",
    "            y1 = random.randint(0, height-100)\n",
    "            y2 = y1 + random.randint(30, 100)\n",
    "\n",
    "            # Replace the pixels with a black rectangle\n",
    "            img[x1:x2,y1:y2,:] = [0,0,0]\n",
    "\n",
    "            #plt.imshow(img)\n",
    "\n",
    "            # Save the corrupted image\n",
    "            save_file = \"../data/\" + directory + \"/corrupt_images/\" + filename.split('_')[0] + \"_corrupted.jpg\"\n",
    "            io.imsave(save_file,img)\n",
    "        except:\n",
    "            pass"
   ]
  },
  {
   "cell_type": "code",
   "execution_count": null,
   "id": "644016af",
   "metadata": {},
   "outputs": [],
   "source": []
  }
 ],
 "metadata": {
  "kernelspec": {
   "display_name": "Python 3 (ipykernel)",
   "language": "python",
   "name": "python3"
  },
  "language_info": {
   "codemirror_mode": {
    "name": "ipython",
    "version": 3
   },
   "file_extension": ".py",
   "mimetype": "text/x-python",
   "name": "python",
   "nbconvert_exporter": "python",
   "pygments_lexer": "ipython3",
   "version": "3.10.11"
  }
 },
 "nbformat": 4,
 "nbformat_minor": 5
}
